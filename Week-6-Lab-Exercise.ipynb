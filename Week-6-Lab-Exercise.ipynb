{
 "cells": [
  {
   "cell_type": "code",
   "execution_count": null,
   "metadata": {},
   "outputs": [],
   "source": [
    "name = input(\"What is your name?\")\n",
    "color = input(\"What is your favorite color?\")\n",
    "lcolor = color.lower()\n",
    "\n",
    "if (lcolor == \"blue\"):\n",
    "    print(\"Hey \" + name + \"! Blue is my favorite color, too!\")\n",
    "elif (lcolor == \"green\"):\n",
    "    print(\"Sorry, \" + name + \", but I do not like green.\")\n",
    "else:\n",
    "    print(\"Hey \" + name + \", \" + lcolor + \" is such a great color.\")\n"
   ]
  },
  {
   "cell_type": "code",
   "execution_count": null,
   "metadata": {},
   "outputs": [],
   "source": [
    "name = input(prompt=\"What is your name? \")\n",
    "age = input(prompt=\"How old are you? \")\n",
    "print(\"Hi\", name, \"you are\", age + \"!\")"
   ]
  }
 ],
 "metadata": {
  "kernelspec": {
   "display_name": "Python 3",
   "language": "python",
   "name": "python3"
  },
  "language_info": {
   "codemirror_mode": {
    "name": "ipython",
    "version": 3
   },
   "file_extension": ".py",
   "mimetype": "text/x-python",
   "name": "python",
   "nbconvert_exporter": "python",
   "pygments_lexer": "ipython3",
   "version": "3.8.3"
  }
 },
 "nbformat": 4,
 "nbformat_minor": 4
}
